{
 "cells": [
  {
   "cell_type": "markdown",
   "metadata": {},
   "source": [
    "# Extract the rectangular network of edges and nodes based on its geographic location."
   ]
  },
  {
   "cell_type": "markdown",
   "metadata": {},
   "source": [
    "# osm-network-dl\n",
    "\n",
    "## Code for downloading a network from open street maps using the osmnx library. Input is pair of latitudes and longitudes specifying the region of the network of interest.\n",
    "\n",
    "\n",
    "## Currently, input is done during runtime via keyboard inputs.\n"
   ]
  },
  {
   "cell_type": "markdown",
   "metadata": {},
   "source": [
    "# Install all the dependencies and libraries\n",
    "pip install wheel\n",
    "pip install pipwin\n",
    "pipwin install numpy\n",
    "pipwin install pandas\n",
    "pipwin install shapely\n",
    "pipwin install gdal\n",
    "pipwin install fiona\n",
    "pipwin install pyproj\n",
    "pipwin install six\n",
    "pipwin install rtree\n",
    "pipwin install geopandas\n",
    "pip install geopandas\n",
    "pip install osmx"
   ]
  },
  {
   "cell_type": "markdown",
   "metadata": {},
   "source": [
    "## Importing the libraries"
   ]
  },
  {
   "cell_type": "code",
   "execution_count": null,
   "metadata": {},
   "outputs": [],
   "source": [
    "import time\n",
    "import geopandas as gp \n",
    "import re\n",
    "import numpy as np\n",
    "import osmnx as ox\n",
    "from scipy import stats\n",
    "import os\n",
    "start_time = time.time()"
   ]
  },
  {
   "cell_type": "markdown",
   "metadata": {},
   "source": [
    "## Download the road network and clean the edge data"
   ]
  },
  {
   "cell_type": "markdown",
   "metadata": {},
   "source": [
    "#step 1 download road network"
   ]
  },
  {
   "cell_type": "code",
   "execution_count": null,
   "metadata": {},
   "outputs": [],
   "source": [
    "# Change 'path' variable to the path where all output shape files will be stored.\n",
    "path = input(\"Enter directory where all output files are stored.\")"
   ]
  },
  {
   "cell_type": "markdown",
   "metadata": {},
   "source": [
    "## Specifing the paths"
   ]
  },
  {
   "cell_type": "code",
   "execution_count": null,
   "metadata": {},
   "outputs": [],
   "source": [
    "name='area'\n",
    "netwotkpath=r'' # the network shapefile path\n",
    "netwotkpath_g=netwotkpath + r'_for_g' # the network shapefile path\n",
    "edgefolder=r'' # the initial edge shapefile path\n",
    "nodespath=netwotkpath+r'nodes\\nodes.shp'# the nodes shapefile path, we don't need to process the nodes file\n",
    "edgepath=path + r'\\edges.shp' # the new edge shapefle path"
   ]
  },
  {
   "cell_type": "markdown",
   "metadata": {},
   "source": [
    "### Dummmy global variables for error checking"
   ]
  },
  {
   "cell_type": "code",
   "execution_count": null,
   "metadata": {},
   "outputs": [],
   "source": [
    "global error_seeker, item_number\n",
    "error_seeker = 0\n",
    "item_number = 0"
   ]
  },
  {
   "cell_type": "markdown",
   "metadata": {},
   "source": [
    "## Set the defalt max speed value for the different highway type"
   ]
  },
  {
   "cell_type": "markdown",
   "metadata": {},
   "source": [
    "smot = speed of motorway (mot)\n",
    "spri = speed of primary road (pri)\n",
    "ssec = speed of secondary road (sec)\n",
    "ster = speed of tertiary road (ter)\n",
    "sres = speed of residential road (res)\n",
    "sroa = speed of road (roa)\n",
    "sunc = speed of unclassified (unc)\n",
    "stru = speed of trunck road (tru)\n",
    "\n",
    "reference (https://wiki.openstreetmap.org/wiki/Key:highway)"
   ]
  },
  {
   "cell_type": "code",
   "execution_count": null,
   "metadata": {},
   "outputs": [],
   "source": [
    "smot= 50; spri= 50; ssec= 50; ster= 40; sres= 40; sroa= 30; sunc= 50; stru= 50"
   ]
  },
  {
   "cell_type": "markdown",
   "metadata": {},
   "source": [
    "## Set the default value of capacity of highway"
   ]
  },
  {
   "cell_type": "code",
   "execution_count": null,
   "metadata": {},
   "outputs": [],
   "source": [
    "mot= 2000; pri= 900; sec= 700; ter= 600; res= 400; roa= 700; unc= 900; tru= 1200"
   ]
  },
  {
   "cell_type": "markdown",
   "metadata": {},
   "source": [
    "## Filter if the user wants the residential edges within the network"
   ]
  },
  {
   "cell_type": "code",
   "execution_count": null,
   "metadata": {},
   "outputs": [],
   "source": [
    "custom_filter_with_res='[\"highway\"~\"motorway|motorway_link|trunk|trunk_link|primary|primary_link|secondary|secondary_link|tertiary|tertiary_link|road|unclassified|residential\"]'\n",
    "custom_filter_no_res='[\"highway\"~\"motorway|motorway_link|trunk|trunk_link|primary|primary_link|secondary|secondary_link|road\"]'\n"
   ]
  },
  {
   "cell_type": "code",
   "execution_count": null,
   "metadata": {},
   "outputs": [],
   "source": [
    "#For removing certain road type\n",
    "def remove_script():\n",
    "    remove_links = input(\"Remove residential, tertiary, tertiary links, unclassified and other minor road types? (y/n)\")\n",
    "    return remove_links\n",
    "\n",
    "#In case of multiple classification choose highest type label\n",
    "def single_highway_class_choice():\n",
    "    remove_labels = input(\"Choose only highest highway type label for all edges? (y/n)\")\n",
    "    return remove_labels\n"
   ]
  },
  {
   "cell_type": "code",
   "execution_count": null,
   "metadata": {},
   "outputs": [],
   "source": [
    "dum = False\n",
    "while not dum:\n",
    "    remove_res = remove_script()\n",
    "    if remove_res == 'y' or remove_res == 'n':\n",
    "        dum = True\n",
    "    else:\n",
    "        print(\"Invalid input\")\n",
    "\n",
    "dum = False\n",
    "while not dum:\n",
    "    remove_label = single_highway_class_choice()\n",
    "    if remove_label == 'y' or remove_label == 'n':\n",
    "        dum = True\n",
    "    else:\n",
    "        print(\"Invalid input\")"
   ]
  },
  {
   "cell_type": "markdown",
   "metadata": {},
   "source": [
    "## Input Cells to enter the geo coordinates"
   ]
  },
  {
   "cell_type": "code",
   "execution_count": null,
   "metadata": {},
   "outputs": [],
   "source": [
    "# kwarg(north lat, south lat, east long, west long). Latitudes must be between -90 and 90.\n",
    "# Longitudes must be between -180 and 180, east larger than west\n",
    "north_lat = input(\"Enter north latitude boundary for network (to 4 decimal places)\")\n",
    "south_lat = input(\"Enter south latitude boundary for network (to 4 decimal places)\")\n",
    "west_long = input(\"Enter west longitude boundary for network (to 4 decimal places)\")\n",
    "east_long = input(\"Enter east longitude boundary for network (to 4 decimal places)\")\n"
   ]
  },
  {
   "cell_type": "markdown",
   "metadata": {},
   "source": [
    "### Filters (Please refer to the functions above)"
   ]
  },
  {
   "cell_type": "code",
   "execution_count": null,
   "metadata": {},
   "outputs": [],
   "source": [
    "if remove_res == 'y':\n",
    "    G=ox.core.graph_from_bbox(north_lat, south_lat, east_long, west_long ,network_type='drive',  # the polygon points\n",
    "                           simplify=True, infrastructure='way[\"highway\"]', custom_filter=custom_filter_no_res)\n",
    "else:\n",
    "    G = ox.core.graph_from_bbox(north_lat, south_lat, east_long, west_long, network_type='drive',  # the polygon points\n",
    "                                simplify=True, infrastructure='way[\"highway\"]', custom_filter=custom_filter_with_res)\n"
   ]
  },
  {
   "cell_type": "markdown",
   "metadata": {},
   "source": [
    "reference: https://en.wikipedia.org/wiki/World_Geodetic_System#:~:text=The%20WGS%2084%20meridian%20of%20zero%20longitude%20is,and%20flattening%20f%20=%201/%20298.257%20223%20563."
   ]
  },
  {
   "cell_type": "code",
   "execution_count": null,
   "metadata": {},
   "outputs": [],
   "source": [
    "G_projected=ox.project_graph(G, to_crs={'init': 'epsg:4326'}) #set the projection coordinate system as WGS 1984(lat lon)\n",
    "ox.save_graph_shapefile(G_projected, filename=netwotkpath) #get the shape file #[outpt 1]\n",
    "\n",
    "print('step 1: shape file retrieval')\n",
    "print(\"--- %s seconds ---\" % (time.time() - start_time)) #No need for this for you"
   ]
  },
  {
   "cell_type": "code",
   "execution_count": null,
   "metadata": {},
   "outputs": [],
   "source": [
    "edges=gp.GeoDataFrame.from_file(netwotkpath+'data/edges/edges.shp')\n",
    "nodes=gp.GeoDataFrame.from_file(netwotkpath+'data/nodes/nodes.shp')\n",
    "edges=edges[['from','highway','lanes','length','maxspeed','name','oneway','osmid','to','geometry']]\n",
    "# add the capacity column \n",
    "edges['capacity']=None\n",
    "\n",
    "edges.dropna(subset=['highway']) # delete none value\n",
    "edges['lanes']=edges['lanes'].fillna('2') # set 1 to none value for lane number\n"
   ]
  },
  {
   "cell_type": "code",
   "execution_count": null,
   "metadata": {},
   "outputs": [],
   "source": [
    "# Looks into ambigious datapoints and returns single value\n",
    "def lane_num(df): # to ture the ['1','2'] to 1\n",
    "    if len(df['lanes'])>2:\n",
    "        try:\n",
    "            return re.findall(r\"\\d+\\.?\\d*\", df['lanes'])[0]\n",
    "        except IndexError:\n",
    "            print(df['lanes'])\n",
    "            return '2'\n",
    "    elif df['lanes']=='#VALUE!':\n",
    "        return '2'\n",
    "    else:\n",
    "         return df['lanes']"
   ]
  },
  {
   "cell_type": "code",
   "execution_count": null,
   "metadata": {},
   "outputs": [],
   "source": [
    "edges['lanes']=edges.apply(lambda x: lane_num(x),axis=1)\n",
    "\n",
    "\n",
    "edges['lanes']=edges['lanes'].astype(np.float32)"
   ]
  },
  {
   "cell_type": "markdown",
   "metadata": {},
   "source": [
    "Cleans up speed so that it's a single number, or  or turn the ['100','90'] to 100, or leave it as None, to be\n",
    "Filled in in a later function highway_speed_using_mode\n"
   ]
  },
  {
   "cell_type": "code",
   "execution_count": null,
   "metadata": {},
   "outputs": [],
   "source": [
    "def highway_speed_cleanup(df):\n",
    "    global error_seeker, item_number\n",
    "    item_number += 1\n",
    "\n",
    "    if df['maxspeed'] is None:\n",
    "        pass\n",
    "    elif len(df['maxspeed']) >= 2:\n",
    "        try:\n",
    "            return re.findall(r\"\\d+\\.?\\d*\", df['maxspeed'])[0]\n",
    "        except IndexError:\n",
    "            print('Indexing Error for road speed parsing encountered on item number {}. maxspeed field for item '\n",
    "                  'contains: '.format(item_number))\n",
    "            print(df['maxspeed'])\n",
    "            return None\n",
    "    elif df['maxspeed']=='#VALUE!':\n",
    "        return None\n",
    "    else:\n",
    "        return df['maxspeed']\n",
    "edges['maxspeed']=edges.apply(lambda x: highway_speed_cleanup(x),axis=1)\n"
   ]
  },
  {
   "cell_type": "markdown",
   "metadata": {},
   "source": [
    "## Set the capacity default value "
   ]
  },
  {
   "cell_type": "code",
   "execution_count": null,
   "metadata": {},
   "outputs": [],
   "source": [
    "def highway_capacity(df): # to set default speed or turn the ['100','90'] to 100\n",
    "    if 'motor' in df['highway']:\n",
    "        return mot\n",
    "    elif 'primary' in df['highway']:\n",
    "        return pri\n",
    "    elif 'secondary' in df['highway']:\n",
    "        return sec\n",
    "    elif 'tertiary' in df['highway']:\n",
    "        return ter\n",
    "    elif 'road' in df['highway']:\n",
    "        return sroa\n",
    "    elif 'unclassified' in df['highway']:\n",
    "        return unc\n",
    "    elif 'trunk' in df['highway']:\n",
    "        return tru\n",
    "    else:\n",
    "         return res"
   ]
  },
  {
   "cell_type": "code",
   "execution_count": null,
   "metadata": {},
   "outputs": [],
   "source": [
    "edges['capacity']=edges.apply(lambda x: highway_capacity(x),axis=1)"
   ]
  },
  {
   "cell_type": "code",
   "execution_count": null,
   "metadata": {},
   "outputs": [],
   "source": [
    "def choose_highest_rank_highway_type(df):\n",
    "    if isinstance(df['highway'], list):\n",
    "        if 'motor' in df['highway']:\n",
    "            return 'motorway'\n",
    "        elif 'trunk' in df['highway']:\n",
    "            return 'trunk'\n",
    "        elif 'primary' in df['highway']:\n",
    "            return 'primary'\n",
    "        elif 'secondary' in df['highway']:\n",
    "            return 'secondary'\n",
    "        elif 'tertiary' in df['highway']:\n",
    "            return 'tertiary'\n",
    "        elif 'residential' in df['highway']:\n",
    "            return 'residential'\n",
    "        elif 'unclassified' in df['highway']:\n",
    "            return 'unclassified'\n",
    "        return 'road'\n",
    "    else:\n",
    "        return df['highway']\n"
   ]
  },
  {
   "cell_type": "code",
   "execution_count": null,
   "metadata": {},
   "outputs": [],
   "source": [
    "if remove_label == 'y':\n",
    "    edges['highway']=edges.apply(lambda x: choose_highest_rank_highway_type(x),axis=1"
   ]
  },
  {
   "cell_type": "markdown",
   "metadata": {},
   "source": [
    "A function to estimate the speed limits for the roads missing the data, by deploying the modal values of similar raoda type.\n",
    "In cases all the roads are missing values we use defalt speed limits"
   ]
  },
  {
   "cell_type": "code",
   "execution_count": null,
   "metadata": {},
   "outputs": [],
   "source": [
    "def calculate_highway_speed_using_mode(df):\n",
    "    highway_speed_dict = {}\n",
    "\n",
    "    for i in range(len(df)):\n",
    "        if df['maxspeed'][i] != None:\n",
    "            if df['highway'][i] not in highway_speed_dict:\n",
    "                highway_speed_dict[df['highway'][i]] = [df['maxspeed'][i]]\n",
    "            else:\n",
    "                highway_speed_dict[df['highway'][i]].append([df['maxspeed'][i]])\n",
    "\n",
    "    for key in highway_speed_dict:\n",
    "        for i in range(len(highway_speed_dict[key])):\n",
    "            if isinstance(highway_speed_dict[key][i], list) is True:\n",
    "                try:\n",
    "                    highway_speed_dict[key][i] = int(highway_speed_dict[key][i][0])\n",
    "                except TypeError:\n",
    "                    pass\n",
    "            else:\n",
    "                try:\n",
    "                    highway_speed_dict[key][i] = int(highway_speed_dict[key][i])\n",
    "                except TypeError:\n",
    "                    pass\n",
    "\n",
    "        highway_speed_dict[key] = list(filter(lambda a: a != [None], highway_speed_dict[key]))\n",
    "        highway_speed_dict[key] = int(stats.mode(highway_speed_dict[key])[0])\n",
    "\n",
    "    no_modal_speed_road_type = []\n",
    "    for i in range(len(df)):\n",
    "        if df['maxspeed'][i] is None:\n",
    "            try:\n",
    "                df.at[i, 'maxspeed'] = highway_speed_dict[df['highway'][i]]\n",
    "            except KeyError:\n",
    "                no_modal_speed_road_type.append(df['highway'][i])\n",
    "                df.at[i, 'maxspeed'] = None\n",
    "\n",
    "    return df"
   ]
  },
  {
   "cell_type": "code",
   "execution_count": null,
   "metadata": {},
   "outputs": [],
   "source": [
    "edges = calculate_highway_speed_using_mode(edges)"
   ]
  },
  {
   "cell_type": "code",
   "execution_count": null,
   "metadata": {},
   "outputs": [],
   "source": [
    "edges.to_csv(edges.csv) # specify output for edges.csv directory\n",
    "nodes.to_csv(nodes.csv) # specify the output directory"
   ]
  },
  {
   "cell_type": "code",
   "execution_count": null,
   "metadata": {},
   "outputs": [],
   "source": [
    "edges.crs = {'init':'epsg:4326'} # set the projection system code\n",
    "edges.to_file(edgepath) # save the shapefile of new edges\n",
    "print('step 2: clean the edges data')\n",
    "print(\"--- %s seconds ---\" % (time.time() - start_time))"
   ]
  },
  {
   "cell_type": "code",
   "execution_count": null,
   "metadata": {},
   "outputs": [],
   "source": []
  }
 ],
 "metadata": {
  "kernelspec": {
   "display_name": "Python 3",
   "language": "python",
   "name": "python3"
  },
  "language_info": {
   "codemirror_mode": {
    "name": "ipython",
    "version": 3
   },
   "file_extension": ".py",
   "mimetype": "text/x-python",
   "name": "python",
   "nbconvert_exporter": "python",
   "pygments_lexer": "ipython3",
   "version": "3.7.6"
  }
 },
 "nbformat": 4,
 "nbformat_minor": 4
}
